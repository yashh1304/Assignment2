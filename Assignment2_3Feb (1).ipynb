{
 "cells": [
  {
   "cell_type": "code",
   "execution_count": 13,
   "id": "988eafc0-cc60-488e-b223-53ea053184ff",
   "metadata": {},
   "outputs": [],
   "source": [
    "#Q1. Which keyword is used to create a function? Create a function to return a list of odd numbers in the range of 1 to 25. \n",
    "\n",
    "\"\"\"def keyword is used to create function .\"\"\"\n",
    "\n",
    "def odd():\n",
    "    l1 = []\n",
    "    for i in range(25):\n",
    "         if i % 2 != 0 :\n",
    "            l1.append(i)\n",
    "    return l1       "
   ]
  },
  {
   "cell_type": "code",
   "execution_count": 14,
   "id": "183b0f7e-ffba-49b2-a7fd-b572e99c2222",
   "metadata": {},
   "outputs": [
    {
     "data": {
      "text/plain": [
       "[1, 3, 5, 7, 9, 11, 13, 15, 17, 19, 21, 23]"
      ]
     },
     "execution_count": 14,
     "metadata": {},
     "output_type": "execute_result"
    }
   ],
   "source": [
    " odd()"
   ]
  },
  {
   "cell_type": "code",
   "execution_count": null,
   "id": "43756020-b200-4b7a-9a11-a6b799ec22d3",
   "metadata": {},
   "outputs": [],
   "source": []
  },
  {
   "cell_type": "code",
   "execution_count": 23,
   "id": "3d91ae79-cca8-4a5e-ade1-ed067c2de295",
   "metadata": {},
   "outputs": [
    {
     "data": {
      "text/plain": [
       "(2, 3, 45)"
      ]
     },
     "execution_count": 23,
     "metadata": {},
     "output_type": "execute_result"
    }
   ],
   "source": [
    "#Q2. Why *args and **kwargs is used in some functions? Create a function each for *args and **kwargs to demonstrate their use.\n",
    "\n",
    "\"\"\"*args is used in some function when we don't know how many arguements need to be passed.\n",
    "whereas **kwargs is used in some function when we want key value pair output. \"\"\"\n",
    "\n",
    "def func(*args):\n",
    "    return args\n",
    "\n",
    "func(2 , 3 , 45)"
   ]
  },
  {
   "cell_type": "code",
   "execution_count": 24,
   "id": "c9c6d90f-c949-4ade-8c84-a6ec4f6d172d",
   "metadata": {},
   "outputs": [
    {
     "data": {
      "text/plain": [
       "{'a': 2, 'b': 'yash'}"
      ]
     },
     "execution_count": 24,
     "metadata": {},
     "output_type": "execute_result"
    }
   ],
   "source": [
    "def func(**kwargs):\n",
    "    return kwargs\n",
    "func(a = 2 , b = \"yash\")"
   ]
  },
  {
   "cell_type": "code",
   "execution_count": null,
   "id": "d16041bf-3862-45cf-a6e4-b2dd3a57e9c2",
   "metadata": {},
   "outputs": [],
   "source": []
  },
  {
   "cell_type": "code",
   "execution_count": 4,
   "id": "a2de9fc4-f3bf-4c1e-8a2f-9dde5a1427e9",
   "metadata": {},
   "outputs": [
    {
     "name": "stdout",
     "output_type": "stream",
     "text": [
      "2\n",
      "4\n",
      "6\n",
      "8\n",
      "10\n"
     ]
    }
   ],
   "source": [
    "#Q3.  What is an iterator in python? Name the method used to initialise the iterator object and the method \n",
    "# used for iteration. Use these methods to print the first five elements of the given list [2, 4, 6, 8, 10, 12, 14, \n",
    "# 16, 18, 20].\n",
    "\n",
    "\"\"\"\n",
    "In Python, an iterator is an object that allows you to traverse through elements in a collection (like a list, tuple, or dictionary) \n",
    "\n",
    "one at a time, without needing to know the underlying implementation details of the collection. Iterators provide a way to access\n",
    "\n",
    "elements sequentially, making it memory-efficient and suitable for handling large data sets.\n",
    "\n",
    "To initialize an iterator object, you typically use the iter() method, passing the collection you want to iterate over as an argument. \n",
    "This method returns the iterator object.\n",
    "\n",
    "To iterate through the elements using the iterator, you use the next() function.\"\"\"\n",
    "\n",
    "l = [2 , 4 , 6 , 8 , 10 , 12 , 14 , 16, 18 , 20]\n",
    "iterator = iter(l)\n",
    "for i in range(5) :\n",
    "    print(next(iterator))"
   ]
  },
  {
   "cell_type": "code",
   "execution_count": null,
   "id": "41cb5685-27e3-40b7-91f5-fd5dc7cf130e",
   "metadata": {},
   "outputs": [],
   "source": []
  },
  {
   "cell_type": "code",
   "execution_count": 26,
   "id": "bf91f8ec-c2a4-4c17-b2a8-bec675161aa6",
   "metadata": {},
   "outputs": [],
   "source": [
    "#Q4.  What is a generator function in python? Why yield keyword is used? Give an example of a generator \n",
    "# function.\n",
    "\n",
    "\"\"\"\n",
    "A generator function in Python is a special type of function that allows you to create iterators in a more concise and memory-efficient way.\n",
    "\n",
    "This is particularly useful when dealing with large datasets or infinite sequences, as it saves memory and processing time.\n",
    "\n",
    "A generator function is defined using the yield keyword. The yield keyword is used to pause the execution of the function and \"yield\" a \n",
    "\n",
    "value back to the caller. When the function is called again, execution resumes from where it was paused, retaining the state of the function\n",
    "\"\"\"\n",
    "\n",
    "def num(n):\n",
    "    a = 0\n",
    "    b = 1\n",
    "    for i in range(n) :\n",
    "        yield a\n",
    "        c = a + b\n",
    "        a = b\n",
    "        b = c"
   ]
  },
  {
   "cell_type": "code",
   "execution_count": 27,
   "id": "00011da1-39e9-4289-8d6b-beedf279cd39",
   "metadata": {},
   "outputs": [
    {
     "name": "stdout",
     "output_type": "stream",
     "text": [
      "0\n",
      "1\n",
      "1\n",
      "2\n",
      "3\n"
     ]
    }
   ],
   "source": [
    "for i in num(5) :\n",
    "    print(i)"
   ]
  },
  {
   "cell_type": "code",
   "execution_count": null,
   "id": "e6a4d909-021a-4056-bd4a-7db395e95483",
   "metadata": {},
   "outputs": [],
   "source": []
  },
  {
   "cell_type": "code",
   "execution_count": 7,
   "id": "6e77d136-6d84-46d7-a967-4d47be9894ba",
   "metadata": {},
   "outputs": [],
   "source": [
    "#Q6. Write a python program to print the first 10 Fibonacci numbers using a while loop.\n",
    "\n",
    "def fib(n):\n",
    "    a , b = 0 , 1\n",
    "    i = 0\n",
    "    while i < n :\n",
    "        yield a \n",
    "        c = a + b\n",
    "        a = b\n",
    "        b = c\n",
    "        i = i + 1"
   ]
  },
  {
   "cell_type": "code",
   "execution_count": 9,
   "id": "3cbd12cf-b9b8-4623-b0c7-89011eb7b769",
   "metadata": {},
   "outputs": [],
   "source": [
    "c = fib(10)"
   ]
  },
  {
   "cell_type": "code",
   "execution_count": 10,
   "id": "bba011c2-94c1-4f03-9191-5ef234c301da",
   "metadata": {},
   "outputs": [
    {
     "name": "stdout",
     "output_type": "stream",
     "text": [
      "0\n",
      "1\n",
      "1\n",
      "2\n",
      "3\n",
      "5\n",
      "8\n",
      "13\n",
      "21\n",
      "34\n"
     ]
    }
   ],
   "source": [
    "for i in c:\n",
    "    print(i)"
   ]
  },
  {
   "cell_type": "code",
   "execution_count": null,
   "id": "1db79c6a-c9c9-4bc3-8221-6183690fc279",
   "metadata": {},
   "outputs": [],
   "source": []
  },
  {
   "cell_type": "code",
   "execution_count": 16,
   "id": "4d9990c8-1a90-40e5-9cd8-9b144fd6dc65",
   "metadata": {},
   "outputs": [
    {
     "data": {
      "text/plain": [
       "['p', 'w', 's', 'k', 'i', 'l', 'l', 's']"
      ]
     },
     "execution_count": 16,
     "metadata": {},
     "output_type": "execute_result"
    }
   ],
   "source": [
    "#Q7. Write a List Comprehension to iterate through the given string: ‘pwskills’.Expected output: ['p', 'w', 's', 'k', 'i', 'l', 'l', 's'] \n",
    "\n",
    "s = 'pwskills'\n",
    "[i for i in s]"
   ]
  },
  {
   "cell_type": "code",
   "execution_count": null,
   "id": "49257a23-708b-4f57-929b-3ff826f0a8c0",
   "metadata": {},
   "outputs": [],
   "source": []
  },
  {
   "cell_type": "code",
   "execution_count": 26,
   "id": "2d4c56d8-51c3-4ae7-9678-62674530f5e8",
   "metadata": {},
   "outputs": [
    {
     "name": "stdin",
     "output_type": "stream",
     "text": [
      "Enter any number  524\n"
     ]
    },
    {
     "name": "stdout",
     "output_type": "stream",
     "text": [
      "Number 524 is a not pallindrome \n"
     ]
    }
   ],
   "source": [
    "#Q8. Write a python program to check whether a given number is Palindrome or not using a while loop.\n",
    "\n",
    "a = int(input(\"Enter any number \"))\n",
    "num = a \n",
    "ans = 0\n",
    "while a > 0 :\n",
    "    rem = a % 10 \n",
    "    ans = ans * 10 + rem\n",
    "    a = a // 10\n",
    "\n",
    "if num == ans :\n",
    "    print(\"Number\" , num ,\"is a pallindrome \")\n",
    "else :\n",
    "    print(\"Number\" , num ,\"is a not pallindrome \")"
   ]
  },
  {
   "cell_type": "code",
   "execution_count": null,
   "id": "04b63dfe-5750-4922-8988-401c20968fd6",
   "metadata": {},
   "outputs": [],
   "source": []
  },
  {
   "cell_type": "code",
   "execution_count": 35,
   "id": "8d01372a-c31e-4165-a352-6d9d0dba58d3",
   "metadata": {},
   "outputs": [
    {
     "data": {
      "text/plain": [
       "[1,\n",
       " 3,\n",
       " 5,\n",
       " 7,\n",
       " 9,\n",
       " 11,\n",
       " 13,\n",
       " 15,\n",
       " 17,\n",
       " 19,\n",
       " 21,\n",
       " 23,\n",
       " 25,\n",
       " 27,\n",
       " 29,\n",
       " 31,\n",
       " 33,\n",
       " 35,\n",
       " 37,\n",
       " 39,\n",
       " 41,\n",
       " 43,\n",
       " 45,\n",
       " 47,\n",
       " 49,\n",
       " 51,\n",
       " 53,\n",
       " 55,\n",
       " 57,\n",
       " 59,\n",
       " 61,\n",
       " 63,\n",
       " 65,\n",
       " 67,\n",
       " 69,\n",
       " 71,\n",
       " 73,\n",
       " 75,\n",
       " 77,\n",
       " 79,\n",
       " 81,\n",
       " 83,\n",
       " 85,\n",
       " 87,\n",
       " 89,\n",
       " 91,\n",
       " 93,\n",
       " 95,\n",
       " 97,\n",
       " 99]"
      ]
     },
     "execution_count": 35,
     "metadata": {},
     "output_type": "execute_result"
    }
   ],
   "source": [
    "#Q9. Write a code to print odd numbers from 1 to 100 using list comprehension.\n",
    "\n",
    "[i for i in range(100) if i % 2 != 0]"
   ]
  },
  {
   "cell_type": "code",
   "execution_count": null,
   "id": "1724eaff-2a21-4663-bbe4-4cbe07a33fae",
   "metadata": {},
   "outputs": [],
   "source": []
  }
 ],
 "metadata": {
  "kernelspec": {
   "display_name": "Python 3 (ipykernel)",
   "language": "python",
   "name": "python3"
  },
  "language_info": {
   "codemirror_mode": {
    "name": "ipython",
    "version": 3
   },
   "file_extension": ".py",
   "mimetype": "text/x-python",
   "name": "python",
   "nbconvert_exporter": "python",
   "pygments_lexer": "ipython3",
   "version": "3.10.8"
  }
 },
 "nbformat": 4,
 "nbformat_minor": 5
}
